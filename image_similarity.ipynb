{
  "nbformat": 4,
  "nbformat_minor": 0,
  "metadata": {
    "colab": {
      "provenance": []
    },
    "kernelspec": {
      "name": "python3",
      "display_name": "Python 3"
    },
    "language_info": {
      "name": "python"
    },
    "gpuClass": "standard"
  },
  "cells": [
    {
      "cell_type": "code",
      "execution_count": 1,
      "metadata": {
        "id": "W1PrcZNyePCh"
      },
      "outputs": [],
      "source": [
        "import torch"
      ]
    },
    {
      "cell_type": "code",
      "source": [
        "from google.colab import drive\n",
        "drive.mount('/content/drive')"
      ],
      "metadata": {
        "colab": {
          "base_uri": "https://localhost:8080/"
        },
        "id": "KqeGhgzdRwJY",
        "outputId": "6e42a3f0-0222-4478-e5bb-9a114a79acf1"
      },
      "execution_count": 2,
      "outputs": [
        {
          "output_type": "stream",
          "name": "stdout",
          "text": [
            "Mounted at /content/drive\n"
          ]
        }
      ]
    },
    {
      "cell_type": "code",
      "source": [
        "%cd drive/MyDrive/Thesis"
      ],
      "metadata": {
        "colab": {
          "base_uri": "https://localhost:8080/"
        },
        "id": "v9YGewj9R5pV",
        "outputId": "b5a68628-7d71-4492-8983-4095d66053fd"
      },
      "execution_count": 3,
      "outputs": [
        {
          "output_type": "stream",
          "name": "stdout",
          "text": [
            "/content/drive/MyDrive/Thesis\n"
          ]
        }
      ]
    },
    {
      "cell_type": "code",
      "source": [
        "from image_similarity import *"
      ],
      "metadata": {
        "id": "xY4NPDRMWvw_"
      },
      "execution_count": 4,
      "outputs": []
    },
    {
      "cell_type": "code",
      "source": [
        "%mkdir images"
      ],
      "metadata": {
        "colab": {
          "base_uri": "https://localhost:8080/"
        },
        "id": "kakaUXvM-PIS",
        "outputId": "8bfe71d1-3fb2-4f34-ecff-732cc71060e4"
      },
      "execution_count": null,
      "outputs": [
        {
          "output_type": "stream",
          "name": "stdout",
          "text": [
            "mkdir: cannot create directory ‘images’: File exists\n"
          ]
        }
      ]
    },
    {
      "cell_type": "code",
      "source": [
        "#loader = DatasetLoader(filename=\"dii/test.description-in-isolation.json\")\n",
        "#                       download=True)\n",
        "loader = DatasetLoader(filename=\"labels.csv\", dir_name=\"images\", from_cache=True)\n",
        "data = torch.utils.data.DataLoader(loader, batch_size=32)\n",
        "model = EncoderModel(256).to(\"cpu\")"
      ],
      "metadata": {
        "colab": {
          "base_uri": "https://localhost:8080/"
        },
        "id": "M3lj_t6drqPN",
        "outputId": "ff48278f-4bda-480f-b368-2de635052e69"
      },
      "execution_count": 6,
      "outputs": [
        {
          "output_type": "stream",
          "name": "stdout",
          "text": [
            "[1741642, 'The sign is describing when the services will begin.', 44277]\n",
            "[1741587, 'A man in a top hat has a magic trick on the floor.', 44277]\n",
            "[1741622, 'A older man with a black hat, mustache and glasses.', 44277]\n",
            "[1741640, 'Sitting there waiting on someone to come over and buy something.', 44277]\n",
            "[1741632, 'a case full of books in a house, books appear to be old', 44277]\n",
            "[355205, 'Taken at some sort of carnival, the camera captured the movement and lights of the amusement ride.', 8139]\n",
            "[355331, 'Large stuffed neon ape toys hang from the ceiling of a carnival game.', 8139]\n",
            "[355208, 'two children riding on a dragon roller coaster', 8139]\n",
            "[355204, 'Two girls smiling while sitting in a cart for a carnival ride.', 8139]\n",
            "[355332, 'A mother and her daughters look at a carnival game.', 8139]\n",
            "[21728852, 'Furry animals being pet by some people inside a building', 504823]\n",
            "[21725505, 'A small car is demoed at a show under blue lighting.', 504823]\n",
            "[21731442, 'the guy in pink shirt is riding a mowped', 504823]\n"
          ]
        }
      ]
    },
    {
      "cell_type": "code",
      "source": [
        "images, ids, annotations, albums = get_vectors(data, model)"
      ],
      "metadata": {
        "id": "J2Pw3-PubBnu"
      },
      "execution_count": 7,
      "outputs": []
    },
    {
      "cell_type": "code",
      "source": [
        "table_ann = confuse_captions(images, annotations, ids, albums[0])\n",
        "\n",
        "with open('annotations.csv','w') as f:\n",
        "    w = csv.writer(f)\n",
        "    w.writerows(table_ann.items())"
      ],
      "metadata": {
        "id": "VB1pOUAxzl5f"
      },
      "execution_count": 8,
      "outputs": []
    }
  ]
}