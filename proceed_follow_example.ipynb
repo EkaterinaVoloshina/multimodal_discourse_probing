{
  "nbformat": 4,
  "nbformat_minor": 0,
  "metadata": {
    "colab": {
      "provenance": []
    },
    "kernelspec": {
      "name": "python3",
      "display_name": "Python 3"
    },
    "language_info": {
      "name": "python"
    }
  },
  "cells": [
    {
      "cell_type": "code",
      "execution_count": 1,
      "metadata": {
        "colab": {
          "base_uri": "https://localhost:8080/"
        },
        "id": "XGGN89eDijD2",
        "outputId": "6ea43d6d-caa8-4914-fd76-1f8e7d8eed00"
      },
      "outputs": [
        {
          "output_type": "stream",
          "name": "stdout",
          "text": [
            "Drive already mounted at /content/drive; to attempt to forcibly remount, call drive.mount(\"/content/drive\", force_remount=True).\n"
          ]
        }
      ],
      "source": [
        "from google.colab import drive\n",
        "drive.mount('/content/drive')"
      ]
    },
    {
      "cell_type": "code",
      "source": [
        "%cd drive/MyDrive/Thesis"
      ],
      "metadata": {
        "colab": {
          "base_uri": "https://localhost:8080/"
        },
        "id": "qjXrIXhzim2t",
        "outputId": "9b6bb4fd-6035-491a-f317-1649db73a849"
      },
      "execution_count": 2,
      "outputs": [
        {
          "output_type": "stream",
          "name": "stdout",
          "text": [
            "/content/drive/MyDrive/Thesis\n"
          ]
        }
      ]
    },
    {
      "cell_type": "code",
      "source": [
        "from proceed_follow_task import DatasetLoader, TaskGenerator"
      ],
      "metadata": {
        "id": "-DCWixhj9hFD"
      },
      "execution_count": 3,
      "outputs": []
    },
    {
      "cell_type": "code",
      "source": [
        "filename = \"sis/test.story-in-sequence.json\"\n",
        "dataset = DatasetLoader(filename)\n",
        "images, stories = dataset.load()"
      ],
      "metadata": {
        "id": "S3XuE38gkNrm"
      },
      "execution_count": 4,
      "outputs": []
    },
    {
      "cell_type": "code",
      "source": [
        "threshold = len(stories.keys()) // 2\n",
        "task_loader = TaskGenerator(images, stories, threshold)"
      ],
      "metadata": {
        "id": "rIOr952lqjWU"
      },
      "execution_count": 5,
      "outputs": []
    }
  ]
}